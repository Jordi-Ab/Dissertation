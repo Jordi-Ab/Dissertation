{
 "cells": [
  {
   "cell_type": "markdown",
   "metadata": {},
   "source": [
    "### The Integral Model\n",
    "\n",
    "Wilson-Cowan-Amari neural field equation:\n",
    "\n",
    "$$\\frac{\\partial u(x,t)}{\\partial t} = - u(x,t) + \\int_{-L}^{L} W(x,y)f(u(y, t)) dy$$\n",
    "\n",
    "where $u(x,t)$ is the synaptic potential, $W(x,y)$ the synaptic connectivity and $f(u)$ a nonlinear function for the conversion of the synaptic potential into a firing rate. In general, both $W$ and $f$ depend upon control parameters which we will define later.\n",
    "\n",
    "$$ W(x,y) = w(|x-y|)\\\\$$ with"
   ]
  },
  {
   "cell_type": "markdown",
   "metadata": {},
   "source": [
    "### Choices for the Connectivity Kernel and Firing Rate Function:\n",
    "\n",
    "The Connectivity Kernel and Firing Rate Function are objects that receive the Parameters on their Constructors and can be evaluated using the () operator.\n",
    "\n",
    "They are defined as:\n",
    "\n",
    "Connectivity Kernel1: \n",
    "\n",
    "$$ W(x;b) = \\frac{1}{2} e^{-b|x|}\\\\$$\n",
    "Connectivity Kernel2:\n",
    "\n",
    "$$ W(x; b) = e^{-b|x|}(b \\sin{|x|} + \\cos{x}) \\\\$$\n",
    "Here, $b$ controls the decay of the Synaptic Kernel.\n",
    "\n",
    "Firing Rate1:\n",
    "\n",
    "$$ f(u; \\mu, \\theta) = \\frac{1}{1+exp(-\\mu(u-\\theta))} \\\\$$\n",
    "Firing Rate2:\n",
    "\n",
    "$$ f(u; \\mu, \\theta) = \\frac{1}{1+e^{-\\mu u + \\theta}} - \\frac{1}{1+e^\\theta}\\\\$$\n",
    "Here, $\\mu$ controls the slope of the sigmoidal firing rate, and $\\theta$ is a threshold value."
   ]
  },
  {
   "cell_type": "code",
   "execution_count": 1,
   "metadata": {
    "collapsed": false
   },
   "outputs": [],
   "source": [
    "from math import *\n",
    "import numpy as np\n",
    "from scipy.integrate import ode\n",
    "import FiringRate as fr\n",
    "import ConnectivityKernel as ck\n",
    "import NeuralField as nf\n",
    "import matplotlib.pyplot as pt\n",
    "import warnings\n",
    "warnings.simplefilter(\"ignore\")\n",
    "%matplotlib inline"
   ]
  },
  {
   "cell_type": "code",
   "execution_count": 2,
   "metadata": {
    "collapsed": false
   },
   "outputs": [],
   "source": [
    "# Spatial Grid\n",
    "nx = (2**10)-1 # Number of points in the space grid\n",
    "Lx = 30 # Space grid limits\n",
    "hx = 2*Lx/nx # Space width between points in the grid \n",
    "x = np.linspace(-Lx, Lx-hx, nx) # nx equally spaced points between -Lx and Lx-hx"
   ]
  },
  {
   "cell_type": "code",
   "execution_count": 3,
   "metadata": {
    "collapsed": false
   },
   "outputs": [],
   "source": [
    "# Initialize Connectivity Kernel Object\n",
    "b = 0.4\n",
    "kernel = ck.ConnectivityKernel2(b)"
   ]
  },
  {
   "cell_type": "markdown",
   "metadata": {},
   "source": [
    "Plot the Chosen Connectivity Kernel"
   ]
  },
  {
   "cell_type": "code",
   "execution_count": 4,
   "metadata": {
    "collapsed": false
   },
   "outputs": [
    {
     "data": {
      "image/png": "[encoded data removed]",
      "text/plain": [
       "<matplotlib.figure.Figure at 0x114fddac8>"
      ]
     },
     "metadata": {},
     "output_type": "display_data"
    }
   ],
   "source": [
    "plot_kernel = True\n",
    "if(plot_kernel):\n",
    "    fig1 = pt.figure(figsize=(15,4))\n",
    "\n",
    "    ax1 = fig1.add_subplot(121)\n",
    "    ax1.plot(x, kernel(x))\n",
    "    ax1.set_title('Connectivity Kernel')\n",
    "    ax1.set_xlabel('x')\n",
    "    ax1.set_ylabel('w(x)')"
   ]
  },
  {
   "cell_type": "markdown",
   "metadata": {},
   "source": [
    "Discretized Neural Field Equation\n",
    "$$\\dot{u_i}(t) = -u_i(t) + \\sum_j w(|x_i-y_j|)f(u_i(t)) \\rho_j$$\n",
    "\n",
    "where:\n",
    "\n",
    "$\\{x_i\\}, x_i \\in [-L, L] \\hspace{5mm} \\forall i\\\\\n",
    "\\{y_j\\}, y_j \\in [-L, L] \\hspace{5mm} \\forall j\\\\\n",
    "\\rho(j) \\hspace{5mm} \\text{are the quadrature weights} $"
   ]
  },
  {
   "cell_type": "code",
   "execution_count": 5,
   "metadata": {
    "collapsed": false
   },
   "outputs": [],
   "source": [
    "# Quadrature weights for Composite trapezoidal\n",
    "rho = np.ones(x.size)\n",
    "rho = rho*hx"
   ]
  },
  {
   "cell_type": "markdown",
   "metadata": {},
   "source": [
    "### A small test for the Quadrature rule"
   ]
  },
  {
   "cell_type": "code",
   "execution_count": 6,
   "metadata": {
    "collapsed": false
   },
   "outputs": [
    {
     "name": "stdout",
     "output_type": "stream",
     "text": [
      "Result = 18000.0343994\n",
      "Error = -0.0343994289578\n"
     ]
    }
   ],
   "source": [
    "def f(x):\n",
    "    return x**2\n",
    "\n",
    "S=0\n",
    "for i, point in enumerate(x):\n",
    "    S += rho[i]*f(point)\n",
    "    \n",
    "print(\"Result = \"+str(S))\n",
    "print(\"Error = \" + str((18000) - S))"
   ]
  },
  {
   "cell_type": "markdown",
   "metadata": {},
   "source": [
    "Nyström Method: Let $\\{x_i\\} = \\{y_j\\}$"
   ]
  },
  {
   "cell_type": "code",
   "execution_count": 7,
   "metadata": {
    "collapsed": false
   },
   "outputs": [],
   "source": [
    "# Assemble the Synaptic Matrix W\n",
    "W = np.zeros((nx, nx))\n",
    "for i in range(nx):\n",
    "    for j in range(nx):\n",
    "        W[i,j] = rho[j]*kernel(x[i]-x[j])"
   ]
  },
  {
   "cell_type": "markdown",
   "metadata": {},
   "source": [
    "Discretized Neural Field Equation\n",
    "$$\\underline{\\dot{\\textbf{u}}} = - \\underline{\\textbf{u}} + \\underline{\\underline{\\textbf{W}}} \\space f (\\underline{\\textbf{u}})$$"
   ]
  },
  {
   "cell_type": "code",
   "execution_count": 12,
   "metadata": {
    "collapsed": false
   },
   "outputs": [],
   "source": [
    "# Initialize Firing Rate and Nerual Field objects.\n",
    "mu = 3.5\n",
    "theta = 3.5\n",
    "f = fr.FiringRate2(mu, theta)\n",
    "\n",
    "neural_field = nf.NeuralField(f, W)"
   ]
  },
  {
   "cell_type": "markdown",
   "metadata": {},
   "source": [
    "### Use Standard ODE Solvers"
   ]
  },
  {
   "cell_type": "code",
   "execution_count": 13,
   "metadata": {
    "collapsed": false
   },
   "outputs": [],
   "source": [
    "#Initial Conditions\n",
    "A0 = 10; alpha = 0.1 # Parameters of Initial Conditions Function\n",
    "initCond = lambda x_vec: A0/(np.cosh(alpha*x_vec)**2)\n",
    "u0 = initCond(x)"
   ]
  },
  {
   "cell_type": "code",
   "execution_count": 14,
   "metadata": {
    "collapsed": false
   },
   "outputs": [],
   "source": [
    "# Time step using RungeKutta4\n",
    "method = ode(neural_field).set_integrator(\"dopri5\")\n",
    "method.set_initial_value(u0)\n",
    "final_t = 60\n",
    "dt = 0.1\n",
    "ts = [] \n",
    "us = []\n",
    "while method.t < final_t:\n",
    "    next_t = method.t+dt\n",
    "    ts.append(next_t)\n",
    "    next_u = method.integrate(next_t)\n",
    "    us.append(next_u)\n",
    "us = np.array(us)\n",
    "ts = np.array(ts)"
   ]
  },
  {
   "cell_type": "code",
   "execution_count": 15,
   "metadata": {
    "collapsed": false,
    "scrolled": true
   },
   "outputs": [
    {
     "data": {
      "text/plain": [
       "<matplotlib.text.Text at 0x118eacf28>"
      ]
     },
     "execution_count": 15,
     "metadata": {},
     "output_type": "execute_result"
    },
    {
     "data": {
      "image/png": "[encoded data removed]",
      "text/plain": [
       "<matplotlib.figure.Figure at 0x1187f1278>"
      ]
     },
     "metadata": {},
     "output_type": "display_data"
    }
   ],
   "source": [
    "#Plot\n",
    "fig2 = pt.figure(figsize=(20,4))\n",
    "\n",
    "ax1 = fig2.add_subplot(131)\n",
    "ax1.plot(x, u0)\n",
    "ax1.set_title('Synaptic Potential at t=0')\n",
    "ax1.set_xlabel('x')\n",
    "ax1.set_ylabel('u(x)')\n",
    "\n",
    "ax2 = fig2.add_subplot(132)\n",
    "ax2.plot(x, us[int((final_t/dt)/2)])\n",
    "ax2.set_title('Synaptic Potential at t='+str(int(final_t/2)))\n",
    "ax2.set_xlabel('x')\n",
    "ax2.set_ylabel('u(x)')\n",
    "\n",
    "ax3 = fig2.add_subplot(133)\n",
    "ax3.plot(x, us[-1])\n",
    "ax3.set_title('Synaptic Potential at t='+str(final_t))\n",
    "ax3.set_xlabel('x')\n",
    "ax3.set_ylabel('u(x)')\n",
    "\n",
    "#pt.savefig(\"mu=(\"+str(miu)+\").png\")"
   ]
  },
  {
   "cell_type": "code",
   "execution_count": null,
   "metadata": {
    "collapsed": true
   },
   "outputs": [],
   "source": []
  }
 ],
 "metadata": {
  "kernelspec": {
   "display_name": "Python 3",
   "language": "python",
   "name": "python3"
  },
  "language_info": {
   "codemirror_mode": {
    "name": "ipython",
    "version": 3
   },
   "file_extension": ".py",
   "mimetype": "text/x-python",
   "name": "python",
   "nbconvert_exporter": "python",
   "pygments_lexer": "ipython3",
   "version": "3.5.3"
  }
 },
 "nbformat": 4,
 "nbformat_minor": 1
}
