{
 "cells": [
  {
   "cell_type": "markdown",
   "metadata": {},
   "source": [
    "### The Integral Model\n",
    "\n",
    "Wilson-Cowan-Amari neural field equation:\n",
    "\n",
    "$$\\frac{\\partial u(x,t)}{\\partial t} = - u(x,t) + \\int_{-L}^{L} W(x,y)f(u(y, t)) dy$$\n",
    "\n",
    "where $u(x,t)$ is the synaptic potential, $W(x,y)$ the synaptic connectivity and $f(u)$ a nonlinear function for the conversion of the synaptic potential into a firing rate. In general, both $W$ and $f$ depend upon control parameters which we will define later.\n",
    "\n",
    "Inhomogeneous Connectivity Function:\n",
    "\n",
    "For the synaptic connectivity, a simple way to incorporate an inhomogeneous microstructure is to multiply the homogeneous kernel $w$ by a periodic function $A(y)$ that modulates the synaptic connectivity and thus breaks translational invariance. We choose $A(y)$ to be a simple harmonic function and we pose:\n",
    "\n",
    "$$ W(x,y) = w(|x-y|)A(y)\\\\$$ with\n",
    "\n",
    "$$A(y; a, \\epsilon) = 1 + a \\space cos(y/ \\epsilon) $$"
   ]
  },
  {
   "cell_type": "markdown",
   "metadata": {},
   "source": [
    "### Choices for the Connectivity Kernel and Firing Rate Function:\n",
    "\n",
    "The Connectivity Kernel and Firing Rate Function are objects that receive the Parameters on their Constructors and can be evaluated using the evaluateAt() function. i.e: object.evaluateAt(x).\n",
    "\n",
    "They are defined as:\n",
    "\n",
    "Connectivity Kernel1: \n",
    "\n",
    "$$ W(x;b) = \\frac{1}{2} e^{-b|x|}\\\\$$\n",
    "Connectivity Kernel2:\n",
    "\n",
    "$$ W(x; b) = e^{-b|x|}(b \\sin{|x|} + \\cos{x}) \\\\$$\n",
    "Here, $b$ controls the decay of the Synaptic Kernel.\n",
    "\n",
    "Firing Rate1:\n",
    "\n",
    "$$ f(u; \\mu, \\theta) = \\frac{1}{1+exp(-\\mu(u-\\theta))} \\\\$$\n",
    "Firing Rate2:\n",
    "\n",
    "$$ f(u; \\mu, \\theta) = \\frac{1}{1+e^{-\\mu u + \\theta}} - \\frac{1}{1+e^\\theta}\\\\$$\n",
    "Here, $\\mu$ controls the slope of the sigmoidal firing rate, and $\\theta$ is a threshold value."
   ]
  },
  {
   "cell_type": "code",
   "execution_count": 1,
   "metadata": {
    "collapsed": false
   },
   "outputs": [],
   "source": [
    "from math import *\n",
    "import numpy as np\n",
    "from scipy.integrate import ode\n",
    "from scipy.fftpack import fft\n",
    "import FiringRate as fr\n",
    "import ConnectivityKernel as ck\n",
    "import NeuralFieldFFT as nf\n",
    "import matplotlib.pyplot as pt"
   ]
  },
  {
   "cell_type": "code",
   "execution_count": 2,
   "metadata": {
    "collapsed": false
   },
   "outputs": [],
   "source": [
    "# Spatial Grid\n",
    "nx = 2**3 # Number of points in the space grid\n",
    "Lx = 30 # Space grid limits\n",
    "hx = 2*Lx/nx # Space width between points in the grid \n",
    "x = np.linspace(-Lx, Lx-hx, nx) # nx equally spaced points between -Lx and Lx-hx"
   ]
  },
  {
   "cell_type": "code",
   "execution_count": 4,
   "metadata": {
    "collapsed": true
   },
   "outputs": [],
   "source": [
    "# Parameter values\n",
    "miu = 50\n",
    "a = .30\n",
    "epsilon = 1\n",
    "theta = 0.5\n",
    "b = 1"
   ]
  },
  {
   "cell_type": "code",
   "execution_count": 5,
   "metadata": {
    "collapsed": false
   },
   "outputs": [],
   "source": [
    "# Initialize Connectivity Kernel\n",
    "b=1\n",
    "k = ck.ConnectivityKernel1(b)\n",
    "f = fr.FiringRate1(miu, theta)"
   ]
  },
  {
   "cell_type": "markdown",
   "metadata": {},
   "source": [
    "Plot the Chosen Connectivity Kernel:"
   ]
  },
  {
   "cell_type": "code",
   "execution_count": null,
   "metadata": {
    "collapsed": true
   },
   "outputs": [],
   "source": [
    "plot_kernel = True\n",
    "if(plot_kernel):\n",
    "    fig = pt.figure()\n",
    "\n",
    "    ax1 = fig.add_subplot(121)\n",
    "    ax1.plot(x, w.evaluateAt(x))\n",
    "    ax1.set_title('Connectivity Kernel')\n",
    "    ax1.set_xlabel('x')\n",
    "    ax1.set_ylabel('w(x)')"
   ]
  },
  {
   "cell_type": "code",
   "execution_count": 12,
   "metadata": {
    "collapsed": true
   },
   "outputs": [],
   "source": [
    "def ker(b, x):\n",
    "    return 0.5*np.exp(-b*abs(x))"
   ]
  },
  {
   "cell_type": "code",
   "execution_count": 17,
   "metadata": {
    "collapsed": false
   },
   "outputs": [
    {
     "name": "stdout",
     "output_type": "stream",
     "text": [
      "[-30.         -29.94140625 -29.8828125  ...,  29.82421875  29.8828125\n",
      "  29.94140625]\n",
      "[ 30.          29.94140625  29.8828125  ...,  29.82421875  29.8828125\n",
      "  29.94140625]\n"
     ]
    }
   ],
   "source": [
    "print(x)\n",
    "print(abs(x))"
   ]
  },
  {
   "cell_type": "code",
   "execution_count": 14,
   "metadata": {
    "collapsed": false
   },
   "outputs": [
    {
     "name": "stdout",
     "output_type": "stream",
     "text": [
      "[  4.67881148e-14   4.96115150e-14   5.26052915e-14 ...,   5.57797257e-14\n",
      "   5.26052915e-14   4.96115150e-14]\n"
     ]
    }
   ],
   "source": [
    "w = ker(b,x)\n",
    "print(w)"
   ]
  },
  {
   "cell_type": "code",
   "execution_count": 6,
   "metadata": {
    "collapsed": false
   },
   "outputs": [],
   "source": [
    "# Heterogenous Vector\n",
    "A = (1 + a*np.cos(x/epsilon)) \n",
    "# Synaptic Kernel Vector\n",
    "W = w.evaluateAt(x)\n",
    "W_hat = np.real(fft(W))"
   ]
  },
  {
   "cell_type": "code",
   "execution_count": 16,
   "metadata": {
    "collapsed": false
   },
   "outputs": [
    {
     "data": {
      "text/plain": [
       "array([  4.67881148e-14,   4.96115150e-14,   5.26052915e-14, ...,\n",
       "         5.57797257e-14,   5.26052915e-14,   4.96115150e-14])"
      ]
     },
     "execution_count": 16,
     "metadata": {},
     "output_type": "execute_result"
    }
   ],
   "source": [
    "W"
   ]
  },
  {
   "cell_type": "code",
   "execution_count": 7,
   "metadata": {
    "collapsed": false
   },
   "outputs": [],
   "source": [
    "neural_field = nf.NeuralFieldFFT(f, A, W_hat, Lx, nx)\n",
    "NeuralField = lambda t,u: neural_field.evaluateAt(t, u)"
   ]
  },
  {
   "cell_type": "markdown",
   "metadata": {},
   "source": [
    "Use Standard ODE Solvers"
   ]
  },
  {
   "cell_type": "code",
   "execution_count": 8,
   "metadata": {
    "collapsed": true
   },
   "outputs": [],
   "source": [
    "#Initial Conditions\n",
    "A0 = 10; alpha = 0.1 # Parameters of Initial Conditions Function\n",
    "initCond = lambda x_vec: A0/(np.cosh(alpha*x_vec)**2)"
   ]
  },
  {
   "cell_type": "code",
   "execution_count": 9,
   "metadata": {
    "collapsed": true
   },
   "outputs": [],
   "source": [
    "u0 = initCond(x)"
   ]
  },
  {
   "cell_type": "code",
   "execution_count": 10,
   "metadata": {
    "collapsed": false
   },
   "outputs": [],
   "source": [
    "# Time step using RungeKutta45\n",
    "method = ode(NeuralField).set_integrator(\"dopri5\")\n",
    "method.set_initial_value(u0)\n",
    "final_t = 100\n",
    "dt = 0.1\n",
    "sol = []\n",
    "while method.t < final_t:\n",
    "    next_u = method.integrate(method.t+dt)\n",
    "    sol.append(next_u)"
   ]
  },
  {
   "cell_type": "code",
   "execution_count": 13,
   "metadata": {
    "collapsed": false
   },
   "outputs": [
    {
     "data": {
      "image/png": "[encoded data removed]",
      "text/plain": [
       "<matplotlib.figure.Figure at 0x10fa15cc0>"
      ]
     },
     "metadata": {},
     "output_type": "display_data"
    }
   ],
   "source": [
    "#Plot\n",
    "fig = pt.figure(figsize=(15,4))\n",
    "\n",
    "ax1 = fig.add_subplot(121)\n",
    "ax1.plot(x, sol[0])\n",
    "ax1.set_title('Synaptic Potential at Initial Time.')\n",
    "ax1.set_xlabel('x')\n",
    "ax1.set_ylabel('u(x)')\n",
    "\n",
    "ax1 = fig.add_subplot(122)\n",
    "ax1.plot(x, sol[-1])\n",
    "ax1.set_title('Synaptic Potential at Final Time.')\n",
    "ax1.set_xlabel('x')\n",
    "ax1.set_ylabel('u(x)')\n",
    "\n",
    "pt.show()"
   ]
  },
  {
   "cell_type": "code",
   "execution_count": null,
   "metadata": {
    "collapsed": true
   },
   "outputs": [],
   "source": []
  }
 ],
 "metadata": {
  "kernelspec": {
   "display_name": "Python 3",
   "language": "python",
   "name": "python3"
  },
  "language_info": {
   "codemirror_mode": {
    "name": "ipython",
    "version": 3
   },
   "file_extension": ".py",
   "mimetype": "text/x-python",
   "name": "python",
   "nbconvert_exporter": "python",
   "pygments_lexer": "ipython3",
   "version": "3.5.3"
  }
 },
 "nbformat": 4,
 "nbformat_minor": 1
}
