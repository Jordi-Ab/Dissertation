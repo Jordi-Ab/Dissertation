{
 "cells": [
  {
   "cell_type": "markdown",
   "metadata": {},
   "source": [
    "### The Integral Model\n",
    "\n",
    "Wilson-Cowan-Amari neural field equation:\n",
    "\n",
    "$$\\frac{\\partial u(\\textbf{x},t)}{\\partial t} = - u(\\textbf{x},t) + \\int_{\\Omega} W(\\textbf{x},\\textbf{y})f(u(\\textbf{y}, t)) d\\sigma(\\textbf{y}),$$\n",
    "\n",
    "where $\\Omega \\subset \\mathbb{R} ^2, $$u(x,t)$ is the synaptic potential, $W(x,y)$ the synaptic connectivity and $f(u)$ a nonlinear function for the conversion of the synaptic potential into a firing rate. In general, both $W$ and $f$ depend upon control parameters which we will define later.\n",
    "\n",
    "$$ W(\\textbf{x},\\textbf{y}) = w(||\\textbf{x}-\\textbf{y}||)\\\\$$"
   ]
  },
  {
   "cell_type": "markdown",
   "metadata": {},
   "source": [
    "### Choices for the Connectivity Kernel and Firing Rate Function:\n",
    "\n",
    "The Connectivity Kernel and Firing Rate Function are objects that receive the Parameters on their Constructors and can be evaluated using the evaluateAt() function. i.e: object.evaluateAt(x).\n",
    "\n",
    "They are defined as:\n",
    "\n",
    "Connectivity Kernel1: \n",
    "\n",
    "$$ W(\\textbf{x};b) = \\frac{1}{2} e^{-b||\\textbf{x}||}\\\\$$\n",
    "Connectivity Kernel2:\n",
    "\n",
    "$$ W(\\textbf{x}; b) = e^{-b||\\textbf{x}||}(b \\sin{||\\textbf{x}||} + \\cos{||\\textbf{x}||}) \\\\$$\n",
    "Here, $b$ controls the decay of the Synaptic Kernel.\n",
    "\n",
    "Firing Rate1:\n",
    "\n",
    "$$ f(u; \\mu, \\theta) = \\frac{1}{1+exp(-\\mu(u-\\theta))} \\\\$$\n",
    "Firing Rate2:\n",
    "\n",
    "$$ f(u; \\mu, \\theta) = \\frac{1}{1+e^{-\\mu u + \\theta}} - \\frac{1}{1+e^\\theta}\\\\$$\n",
    "Here, $\\mu$ controls the slope of the sigmoidal firing rate, and $\\theta$ is a threshold value."
   ]
  },
  {
   "cell_type": "code",
   "execution_count": 1,
   "metadata": {
    "collapsed": false
   },
   "outputs": [],
   "source": [
    "from math import *\n",
    "import numpy as np\n",
    "from scipy.integrate import ode\n",
    "from getWeightsPoints import getWeightsAndPoints\n",
    "import InitialConditions as ic\n",
    "import FiringRate as fr\n",
    "import ConnectivityKernel as ck\n",
    "import NeuralField as nf\n",
    "import matplotlib.pyplot as plt\n",
    "%matplotlib inline"
   ]
  },
  {
   "cell_type": "code",
   "execution_count": 2,
   "metadata": {
    "collapsed": false
   },
   "outputs": [],
   "source": [
    "# Spatial Grid\n",
    "Nx = 20 # Number of points in the x space grid\n",
    "Lx = -30; Ux = 30 # x-space grid limits  \n",
    "xi = np.linspace(Lx, Ux, Nx) # nx equally spaced points between -Lx and Lx\n",
    "hx = xi[1] - xi[0]"
   ]
  },
  {
   "cell_type": "code",
   "execution_count": 3,
   "metadata": {
    "collapsed": false
   },
   "outputs": [
    {
     "name": "stdout",
     "output_type": "stream",
     "text": [
      "Gauss Weights: [ 0.55555556  0.88888889  0.55555556]\n",
      "Gauss Points: [-0.77459667  0.          0.77459667]\n"
     ]
    }
   ],
   "source": [
    "Np = 3 # Desired number of gauss points.\n",
    "wgts, pts = getWeightsAndPoints(Np)\n",
    "Ng = len(wgts) # Actual Number of Gauss points.\n",
    "print(\"Gauss Weights: \"+str(wgts))\n",
    "print(\"Gauss Points: \"+str(pts))"
   ]
  },
  {
   "cell_type": "code",
   "execution_count": 4,
   "metadata": {
    "collapsed": true
   },
   "outputs": [],
   "source": [
    "N = (Nx-1)*Ng\n",
    "\n",
    "# Linear Grid of Interior (x,y) points i.e. (x_{is}, x_{jt})\n",
    "grid = []\n",
    "for i in range(Nx-1):\n",
    "    x = xi[i]\n",
    "    for s in range(Ng):\n",
    "        int_x = x + (hx/2)*(1+pts[s])\n",
    "        for j in range(Nx-1):\n",
    "            y = xi[j]\n",
    "            for t in range(Ng):\n",
    "                int_y = y + (hx/2)*(1+pts[t])\n",
    "                new_pt = np.array([int_x, int_y])\n",
    "                grid.append(new_pt)\n",
    "grid = np.array(grid)"
   ]
  },
  {
   "cell_type": "markdown",
   "metadata": {},
   "source": [
    "### Quick example of Integrating over the interval using interior points"
   ]
  },
  {
   "cell_type": "code",
   "execution_count": 5,
   "metadata": {
    "collapsed": false
   },
   "outputs": [
    {
     "name": "stdout",
     "output_type": "stream",
     "text": [
      "Result = 2160000.0\n",
      "Error = 0.0\n"
     ]
    }
   ],
   "source": [
    "# A function to integrate\n",
    "def f(x, y):\n",
    "    return x**2 + y**2\n",
    "\n",
    "S=0\n",
    "wgts_h = (hx/2)*wgts\n",
    "for i, pt in enumerate(grid):\n",
    "    s_ix = int(np.floor(i/N)) % Ng\n",
    "    t_ix = i % Ng\n",
    "    S += wgts_h[s_ix]*wgts_h[t_ix]*f(pt[0], pt[1])\n",
    "print(\"Result = \"+str(S))\n",
    "print(\"Error = \" + str((2160000) - S))"
   ]
  },
  {
   "cell_type": "code",
   "execution_count": 7,
   "metadata": {
    "collapsed": true
   },
   "outputs": [],
   "source": [
    "# Initialize Connectivity Kernel\n",
    "b = 0.4\n",
    "kernel = ck.ConnectivityKernel2(b)"
   ]
  },
  {
   "cell_type": "code",
   "execution_count": 8,
   "metadata": {
    "collapsed": false
   },
   "outputs": [
    {
     "name": "stdout",
     "output_type": "stream",
     "text": [
      "Computing Synaptic Matrix ...\n",
      "(3249, 3249)\n"
     ]
    }
   ],
   "source": [
    "# Assemble Synaptic Matrix\n",
    "print(\"Computing Synaptic Matrix ...\")\n",
    "wgts_h = (hx/2)*wgts\n",
    "W = np.zeros( (len(grid), len(grid)) )\n",
    "for i, x_pt in enumerate(grid):\n",
    "    for j, y_pt in enumerate(grid):\n",
    "        s_ix = int(np.floor(j/N)) % Ng\n",
    "        t_ix = j % Ng\n",
    "        rho_s = wgts_h[s_ix]\n",
    "        rho_t = wgts_h[t_ix]\n",
    "        new_pt = x_pt-y_pt\n",
    "        w = kernel( new_pt[0], new_pt[1] )\n",
    "        W[i,j] = rho_s*rho_t*w\n",
    "print(W.shape)"
   ]
  },
  {
   "cell_type": "markdown",
   "metadata": {},
   "source": [
    "### Time step using standard ODE solvers"
   ]
  },
  {
   "cell_type": "code",
   "execution_count": 30,
   "metadata": {
    "collapsed": true
   },
   "outputs": [],
   "source": [
    "# Parameters for Firing Rate\n",
    "mu = 3.4; theta = 5.6;\n",
    "f_rate = fr.FiringRate2(mu, theta)\n",
    "\n",
    "# Initialize Neural Field\n",
    "NeuralField = nf.NeuralField(f_rate, W)\n",
    "neural_field = lambda t,u: NeuralField.evaluateAt(t,u) # Callable function"
   ]
  },
  {
   "cell_type": "code",
   "execution_count": 31,
   "metadata": {
    "collapsed": false
   },
   "outputs": [
    {
     "data": {
      "text/plain": [
       "3249"
      ]
     },
     "execution_count": 31,
     "metadata": {},
     "output_type": "execute_result"
    }
   ],
   "source": [
    "# Initial Conditions\n",
    "#_A = 6; _L = 5.77 # parameters for initial condition 1\n",
    "_A = 2; _L = 100 # parameters for initial condition 2\n",
    "initCond = ic.InitialCondition2(_A, _L)\n",
    "\n",
    "u0 = []\n",
    "    for x in grid:\n",
    "        u0.append(initCond(x))\n",
    "    u0 = np.array(u0)"
   ]
  },
  {
   "cell_type": "code",
   "execution_count": 32,
   "metadata": {
    "collapsed": false
   },
   "outputs": [],
   "source": [
    "method = ode(neural_field).set_integrator(\"dopri5\")\n",
    "method.set_initial_value(u0)\n",
    "final_t = 15\n",
    "dt = 0.1\n",
    "us = []\n",
    "time_points = []\n",
    "while method.t < final_t:\n",
    "    next_t = method.t+dt\n",
    "    time_points.append(next_t)\n",
    "    next_u = method.integrate(next_t)\n",
    "    us.append(next_u)"
   ]
  },
  {
   "cell_type": "markdown",
   "metadata": {},
   "source": [
    "### Plot Solutions"
   ]
  },
  {
   "cell_type": "code",
   "execution_count": 33,
   "metadata": {
    "collapsed": false
   },
   "outputs": [],
   "source": [
    "xs = grid[0::N+1,0];\n",
    "ys = grid[0:N,1];\n",
    "xx,yy = np.meshgrid(xs, ys)"
   ]
  },
  {
   "cell_type": "code",
   "execution_count": 34,
   "metadata": {
    "collapsed": false
   },
   "outputs": [
    {
     "data": {
      "image/png": "[encoded data removed]",
      "text/plain": [
       "<matplotlib.figure.Figure at 0x1195d85c0>"
      ]
     },
     "metadata": {},
     "output_type": "display_data"
    }
   ],
   "source": [
    "fig = plt.figure(figsize=(20,4))\n",
    "\n",
    "# Plot initial time\n",
    "ax1 = fig.add_subplot(131)\n",
    "uu0 = u0.reshape(( (Nx-1)*Ng,(Nx-1)*Ng)).T\n",
    "cont1 = ax1.contourf(xx, yy, uu0, 20, cmap=plt.get_cmap('viridis'))\n",
    "ax1.set_title(\"Synaptic Activity at t = 0\")\n",
    "plt.colorbar(cont1)\n",
    "\n",
    "# Plot half time\n",
    "ax2 = fig.add_subplot(132)\n",
    "un_2 = us[int(len(time_points)/2)].reshape(( (Nx-1)*Ng,(Nx-1)*Ng)).T\n",
    "cont2 = ax2.contourf(xx, yy, un_2, 20, cmap=plt.get_cmap('viridis'))\n",
    "ax2.set_title(\"Synaptic Activity at t = \"+str(int(final_t/2)))\n",
    "plt.colorbar(cont2)\n",
    "\n",
    "# Plot final time\n",
    "ax3 = fig.add_subplot(133)\n",
    "un = us[-1].reshape(( (Nx-1)*Ng,(Nx-1)*Ng)).T\n",
    "cont3 = ax3.contourf(xx, yy, un, 20, cmap=plt.get_cmap('viridis'))\n",
    "ax3.set_title(\"Synaptic Activity at t = \"+str(final_t))\n",
    "plt.colorbar(cont3)\n",
    "plt.savefig(\"IC1_\"+str(N**2)+\"points_(\"+str(mu)+\")mu.png\")"
   ]
  },
  {
   "cell_type": "code",
   "execution_count": null,
   "metadata": {
    "collapsed": true
   },
   "outputs": [],
   "source": []
  }
 ],
 "metadata": {
  "kernelspec": {
   "display_name": "Python 3",
   "language": "python",
   "name": "python3"
  },
  "language_info": {
   "codemirror_mode": {
    "name": "ipython",
    "version": 3
   },
   "file_extension": ".py",
   "mimetype": "text/x-python",
   "name": "python",
   "nbconvert_exporter": "python",
   "pygments_lexer": "ipython3",
   "version": "3.5.3"
  }
 },
 "nbformat": 4,
 "nbformat_minor": 1
}
