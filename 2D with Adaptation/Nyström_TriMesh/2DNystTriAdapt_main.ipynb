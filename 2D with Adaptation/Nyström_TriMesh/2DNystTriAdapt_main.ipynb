{
 "cells": [
  {
   "cell_type": "code",
   "execution_count": 1,
   "metadata": {
    "collapsed": false
   },
   "outputs": [],
   "source": [
    "import numpy as np\n",
    "from meshtools import *\n",
    "import NeuralField as nf\n",
    "import FiringRate as fr\n",
    "import ConnectivityKernel as ck\n",
    "import QuadratureInTriangles as Qtri\n",
    "import InitialConditions as ic\n",
    "import matplotlib.pyplot as plt\n",
    "from matplotlib.mlab import griddata\n",
    "from scipy.integrate import ode\n",
    "%matplotlib inline"
   ]
  },
  {
   "cell_type": "code",
   "execution_count": 2,
   "metadata": {
    "collapsed": true
   },
   "outputs": [],
   "source": [
    "# Used for Plotting 3D result on linear vectors\n",
    "def grid(x, y, z, resX=100, resY=100):\n",
    "    \"Convert 3 column data to matplotlib grid\"\n",
    "    xi = np.linspace(min(x), max(x), resX)\n",
    "    yi = np.linspace(min(y), max(y), resY)\n",
    "    Z = griddata(x, y, z, xi, yi)\n",
    "    X, Y = np.meshgrid(xi, yi)\n",
    "    return X, Y, Z"
   ]
  },
  {
   "cell_type": "code",
   "execution_count": 3,
   "metadata": {
    "collapsed": false
   },
   "outputs": [
    {
     "name": "stdout",
     "output_type": "stream",
     "text": [
      "Number of Elements = 1234\n"
     ]
    }
   ],
   "source": [
    "# Generate Mesh\n",
    "Lx=-30; Ux=30\n",
    "Ly=-30; Uy=30\n",
    "length = 3\n",
    "p,v=RectangleSegments([Ux,Uy],[Lx, Ly],edge_length=length)\n",
    "mesh_pts, elems = DoTriMesh(p,v,edge_length=length)\n",
    "NT = len(elems) # Number of triangles\n",
    "print(\"Number of Elements = \" + str(NT))"
   ]
  },
  {
   "cell_type": "code",
   "execution_count": 4,
   "metadata": {
    "collapsed": false
   },
   "outputs": [],
   "source": [
    "# plot mesh\n",
    "plot_mesh = False\n",
    "if(plot_mesh):\n",
    "    plt.triplot(mesh_pts[:, 0], mesh_pts[:, 1], elems)"
   ]
  },
  {
   "cell_type": "code",
   "execution_count": 5,
   "metadata": {
    "collapsed": true
   },
   "outputs": [],
   "source": [
    "Np = 2 # Desired number of gauss points.\n",
    "\n",
    "gwp = Qtri.getWeightsAndPoints(Np)\n",
    "\n",
    "weights = gwp[:,2]\n",
    "x_hat = gwp[:,1]\n",
    "y_hat = gwp[:,0]\n",
    "\n",
    "Ng = len(weights) # Actual Number of Gauss points."
   ]
  },
  {
   "cell_type": "code",
   "execution_count": 6,
   "metadata": {
    "collapsed": true
   },
   "outputs": [],
   "source": [
    "# Assemble Mesh of Interior Points\n",
    "xs = []\n",
    "As = []\n",
    "for l, elem in enumerate(elems):\n",
    "    v1,v2,v3 = mesh_pts[elem] # Get vertices of the element\n",
    "    A_l = Qtri.computeArea(v1,v2,v3)\n",
    "    As.append(A_l)\n",
    "    for j in range(len(weights)):\n",
    "        new_point = Qtri.mapX(v1, v2, v3, x_hat[j], y_hat[j])\n",
    "        xs.append(new_point)\n",
    "xs = np.array(xs)\n",
    "As = np.array(As)\n",
    "N = len(xs)"
   ]
  },
  {
   "cell_type": "code",
   "execution_count": 7,
   "metadata": {
    "collapsed": false
   },
   "outputs": [],
   "source": [
    "# Initialize Connectivity Kernel\n",
    "b = 1\n",
    "kernel = ck.ConnectivityKernel1(b)"
   ]
  },
  {
   "cell_type": "code",
   "execution_count": 8,
   "metadata": {
    "collapsed": false
   },
   "outputs": [
    {
     "name": "stdout",
     "output_type": "stream",
     "text": [
      "CPU times: user 52.3 s, sys: 130 ms, total: 52.4 s\n",
      "Wall time: 52.4 s\n"
     ]
    }
   ],
   "source": [
    "%%time\n",
    "# Assemble Synaptic Matrix\n",
    "wts_o = np.outer(As.T, weights)\n",
    "rhos = wts_o.flatten()\n",
    "\n",
    "W = np.zeros((N,N))\n",
    "for i in range(0, N):\n",
    "    x_pt = xs[i]\n",
    "    for j in range(i, N):\n",
    "        y_pt = xs[j]\n",
    "        x, y = x_pt-y_pt\n",
    "        W[i,j] = kernel(x, y) \n",
    "        \n",
    "# Copy upper triangular part to lower triangular part\n",
    "i_lower = np.tril_indices(N, -1)\n",
    "W[i_lower] = W.T[i_lower]\n",
    "\n",
    "# Multiply times the weights\n",
    "W *= rhos\n",
    "del rhos # delete to free memory"
   ]
  },
  {
   "cell_type": "markdown",
   "metadata": {},
   "source": [
    "### Time step using standard ODE solvers"
   ]
  },
  {
   "cell_type": "code",
   "execution_count": 16,
   "metadata": {
    "collapsed": true
   },
   "outputs": [],
   "source": [
    "# Initial Conditions\n",
    "_A = 6; _L = 5.77 # parameters for initial condition 1\n",
    "#_A = 2; _L = 100 # parameters for initial condition 2\n",
    "initCond = ic.InitialCondition1(_A, _L)\n",
    "\n",
    "u0 = [] # Synaptic Potential\n",
    "a0 = [] # Adaptation\n",
    "for point in xs:\n",
    "    x,y = point\n",
    "    init_cond = initCond(x,y)\n",
    "    u0.append(init_cond)\n",
    "    a0.append(init_cond)\n",
    "v0 = np.array(u0 + a0) # Stack u0 on top of a0"
   ]
  },
  {
   "cell_type": "code",
   "execution_count": 17,
   "metadata": {
    "collapsed": false
   },
   "outputs": [],
   "source": [
    "# Initialize Firing Rate\n",
    "p_mu = 50\n",
    "p_h = 0.6\n",
    "f_rate = fr.FiringRate1(p_mu, p_h)\n",
    "\n",
    "# Initialize Neural Field\n",
    "p_g = 1\n",
    "p_alph = 1.2\n",
    "NeuralField = nf.NeuralField(f_rate, W, p_alph, p_g)"
   ]
  },
  {
   "cell_type": "code",
   "execution_count": 18,
   "metadata": {
    "collapsed": false
   },
   "outputs": [
    {
     "name": "stdout",
     "output_type": "stream",
     "text": [
      "CPU times: user 3min 54s, sys: 1.54 s, total: 3min 56s\n",
      "Wall time: 59.5 s\n"
     ]
    }
   ],
   "source": [
    "%%time\n",
    "method = ode(NeuralField).set_integrator(\"dopri5\")\n",
    "method.set_initial_value(v0)\n",
    "final_t = 15\n",
    "dt = 0.1\n",
    "vs = []\n",
    "time_points = []\n",
    "while method.t < final_t:\n",
    "    next_t = method.t+dt\n",
    "    time_points.append(next_t)\n",
    "    next_v = method.integrate(next_t)\n",
    "    vs.append(next_v)"
   ]
  },
  {
   "cell_type": "code",
   "execution_count": 19,
   "metadata": {
    "collapsed": false
   },
   "outputs": [
    {
     "data": {
      "image/png": "[encoded data removed]",
      "text/plain": [
       "<matplotlib.figure.Figure at 0x103473400>"
      ]
     },
     "metadata": {},
     "output_type": "display_data"
    }
   ],
   "source": [
    "fig = plt.figure(figsize=(8,8))\n",
    "\n",
    "# Plot initial time of Synaptic Activity\n",
    "ax11 = fig.add_subplot(221)\n",
    "xx0, yy0, uu0 = grid(xs[:,0], xs[:,1], vs[0][:Ng*NT])\n",
    "cont11 = ax11.contourf(xx0, yy0, uu0, 20, cmap=plt.get_cmap('viridis'))\n",
    "ax11.set_title(\"Synaptic Activity at Initial Time\")\n",
    "plt.colorbar(cont11)\n",
    "\n",
    "# Plot initial time of Adaptation\n",
    "ax12 = fig.add_subplot(222)\n",
    "xx0, yy0, aa0 = grid(xs[:,0], xs[:,1], vs[0][Ng*NT:])\n",
    "cont12 = ax12.contourf(xx0, yy0, aa0, 20, cmap=plt.get_cmap('viridis'))\n",
    "ax12.set_title(\"Adaptation at Initial Time\")\n",
    "plt.colorbar(cont12)\n",
    "\n",
    "# Plot final time of Synaptic Activity\n",
    "ax21 = fig.add_subplot(223)\n",
    "xn, yn, un1 = grid(xs[:,0], xs[:,1], vs[-1][:Ng*NT])\n",
    "cont21 = ax21.contourf(xn, yn, un1, 20, cmap=plt.get_cmap('viridis'))\n",
    "ax21.set_title(\"Synaptic Activity at Final Time\")\n",
    "plt.colorbar(cont21)\n",
    "\n",
    "# Plot final time of Adaptation\n",
    "ax22 = fig.add_subplot(224)\n",
    "xn, yn, un2 = grid(xs[:,0], xs[:,1], vs[-1][Ng*NT:])\n",
    "cont22 = ax22.contourf(xn, yn, un2, 20, cmap=plt.get_cmap('viridis'))\n",
    "ax22.set_title(\"Adaptation at Final Time\")\n",
    "plt.colorbar(cont22)\n",
    "\n",
    "plt.savefig(\"Plots/IC\"+str(initCond.num)+\"_\"+str(NT)+\"elems_(\"+str(p_h)+\")h.png\")"
   ]
  },
  {
   "cell_type": "code",
   "execution_count": null,
   "metadata": {
    "collapsed": true
   },
   "outputs": [],
   "source": []
  }
 ],
 "metadata": {
  "kernelspec": {
   "display_name": "Python 3",
   "language": "python",
   "name": "python3"
  },
  "language_info": {
   "codemirror_mode": {
    "name": "ipython",
    "version": 3
   },
   "file_extension": ".py",
   "mimetype": "text/x-python",
   "name": "python",
   "nbconvert_exporter": "python",
   "pygments_lexer": "ipython3",
   "version": "3.5.3"
  }
 },
 "nbformat": 4,
 "nbformat_minor": 1
}
