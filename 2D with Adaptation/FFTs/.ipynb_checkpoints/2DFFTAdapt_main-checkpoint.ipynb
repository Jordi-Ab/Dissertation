{
 "cells": [
  {
   "cell_type": "markdown",
   "metadata": {},
   "source": [
    "Breathers - Coombes, Helmut, Avitabile"
   ]
  },
  {
   "cell_type": "code",
   "execution_count": 1,
   "metadata": {
    "collapsed": false
   },
   "outputs": [
    {
     "ename": "ImportError",
     "evalue": "No module named 'NeuralField'",
     "output_type": "error",
     "traceback": [
      "\u001b[0;31m----------------------------------------------------------------------\u001b[0m",
      "\u001b[0;31mImportError\u001b[0m                          Traceback (most recent call last)",
      "\u001b[0;32m<ipython-input-1-223475fcbb89>\u001b[0m in \u001b[0;36m<module>\u001b[0;34m()\u001b[0m\n\u001b[1;32m      6\u001b[0m \u001b[0;32mimport\u001b[0m \u001b[0mFiringRate\u001b[0m \u001b[0;32mas\u001b[0m \u001b[0mfr\u001b[0m\u001b[0;34m\u001b[0m\u001b[0m\n\u001b[1;32m      7\u001b[0m \u001b[0;32mfrom\u001b[0m \u001b[0mgetWeightsPoints\u001b[0m \u001b[0;32mimport\u001b[0m \u001b[0mgetWeightsAndPoints\u001b[0m\u001b[0;34m\u001b[0m\u001b[0m\n\u001b[0;32m----> 8\u001b[0;31m \u001b[0;32mimport\u001b[0m \u001b[0mNeuralField\u001b[0m \u001b[0;32mas\u001b[0m \u001b[0mnf\u001b[0m\u001b[0;34m\u001b[0m\u001b[0m\n\u001b[0m\u001b[1;32m      9\u001b[0m \u001b[0;32mimport\u001b[0m \u001b[0mmatplotlib\u001b[0m\u001b[0;34m.\u001b[0m\u001b[0mpyplot\u001b[0m \u001b[0;32mas\u001b[0m \u001b[0mplt\u001b[0m\u001b[0;34m\u001b[0m\u001b[0m\n\u001b[1;32m     10\u001b[0m \u001b[0;32mimport\u001b[0m \u001b[0mwarnings\u001b[0m\u001b[0;34m\u001b[0m\u001b[0m\n",
      "\u001b[0;31mImportError\u001b[0m: No module named 'NeuralField'"
     ]
    }
   ],
   "source": [
    "from math import *\n",
    "import numpy as np\n",
    "from numpy.linalg import norm\n",
    "from scipy.integrate import ode\n",
    "import ConnectivityKernel as ck\n",
    "import FiringRate as fr\n",
    "from getWeightsPoints import getWeightsAndPoints\n",
    "import NeuralField as nf\n",
    "import matplotlib.pyplot as plt\n",
    "import warnings\n",
    "warnings.simplefilter(\"ignore\")\n",
    "%matplotlib inline"
   ]
  },
  {
   "cell_type": "code",
   "execution_count": 2,
   "metadata": {
    "collapsed": false
   },
   "outputs": [],
   "source": [
    "# Spatial Grid\n",
    "Nx = 30 # Number of points in the x space grid\n",
    "Lx = -60; Ux = 60 # x-space grid limits  \n",
    "xi = np.linspace(Lx, Ux, Nx) # nx equally spaced points between -Lx and Lx\n",
    "hx = xi[1] - xi[0]"
   ]
  },
  {
   "cell_type": "code",
   "execution_count": 3,
   "metadata": {
    "collapsed": false
   },
   "outputs": [
    {
     "name": "stdout",
     "output_type": "stream",
     "text": [
      "Gauss Weights: [ 0.55555556  0.88888889  0.55555556]\n",
      "Gauss Points: [-0.77459667  0.          0.77459667]\n"
     ]
    }
   ],
   "source": [
    "Np = 3 # Desired number of gauss points.\n",
    "wgts, pts = getWeightsAndPoints(Np)\n",
    "Ng = len(wgts) # Actual Number of Gauss points.\n",
    "print(\"Gauss Weights: \"+str(wgts))\n",
    "print(\"Gauss Points: \"+str(pts))"
   ]
  },
  {
   "cell_type": "code",
   "execution_count": 4,
   "metadata": {
    "collapsed": true
   },
   "outputs": [],
   "source": [
    "N = (Nx-1)*Ng\n",
    "\n",
    "# Linear Grid of Interior (x,y) points i.e. (x_{is}, x_{jt})\n",
    "grid = []\n",
    "for i in range(Nx-1):\n",
    "    x = xi[i]\n",
    "    for s in range(Ng):\n",
    "        int_x = x + (hx/2)*(1+pts[s])\n",
    "        for j in range(Nx-1):\n",
    "            y = xi[j]\n",
    "            for t in range(Ng):\n",
    "                int_y = y + (hx/2)*(1+pts[t])\n",
    "                new_pt = np.array([int_x, int_y])\n",
    "                grid.append(new_pt)\n",
    "grid = np.array(grid)"
   ]
  },
  {
   "cell_type": "code",
   "execution_count": 5,
   "metadata": {
    "collapsed": true
   },
   "outputs": [],
   "source": [
    "p_b = 1\n",
    "kernel = ck.ConnectivityKernel1(p_b)"
   ]
  },
  {
   "cell_type": "code",
   "execution_count": 6,
   "metadata": {
    "collapsed": false,
    "scrolled": true
   },
   "outputs": [
    {
     "name": "stdout",
     "output_type": "stream",
     "text": [
      "Computing Synaptic Matrix ...\n",
      "Shape of W: (7569, 7569)\n"
     ]
    }
   ],
   "source": [
    "# Assemble Synaptic Matrix\n",
    "compute_matrix = True\n",
    "save_matrix = False\n",
    "\n",
    "if(compute_matrix):\n",
    "    print(\"Computing Synaptic Matrix ...\")\n",
    "    wgts_h = (hx/2)*wgts\n",
    "    W = np.zeros( (len(grid), len(grid)) )\n",
    "    for i, x_pt in enumerate(grid):\n",
    "        for j, y_pt in enumerate(grid):\n",
    "            s_ix = int(np.floor(j/N)) % Ng\n",
    "            t_ix = j % Ng\n",
    "            rho_s = wgts_h[s_ix]\n",
    "            rho_t = wgts_h[t_ix]\n",
    "            n_pt = x_pt-y_pt\n",
    "            w = kernel.evaluateAt( n_pt[0], n_pt[1] )\n",
    "            W[i,j] = rho_s*rho_t*w\n",
    "    if(save_matrix):\n",
    "        print(\"Saving Synaptic Matrix ...\")\n",
    "        np.savetxt(\"SynapticMatrix.txt\", W)\n",
    "else:\n",
    "    print(\"Loading Synaptic Matrix from file ...\")\n",
    "    W = np.loadtxt(\"SynapticMatrix.txt\")\n",
    "    if(W.shape[0] != N**2):\n",
    "        print(\"Warning, dimension of matrix and grid don't coincide.\")\n",
    "print( \"Shape of W: \"+str(W.shape) )"
   ]
  },
  {
   "cell_type": "markdown",
   "metadata": {},
   "source": [
    "### Time step using standard ODE solvers"
   ]
  },
  {
   "cell_type": "code",
   "execution_count": 7,
   "metadata": {
    "collapsed": false
   },
   "outputs": [],
   "source": [
    "# Initialize Firing Rate\n",
    "p_mu = 50\n",
    "p_h = 0.5\n",
    "f_rate = fr.FiringRate1(p_mu, p_h)\n",
    "\n",
    "# Initialize Neural Field\n",
    "p_g = 1\n",
    "p_alph = 1.2\n",
    "NeuralField = nf.NeuralField(W, f_rate, p_alph, p_g)\n",
    "neural_field = lambda t,v: NeuralField.evaluateAt(t,v) # Callable function"
   ]
  },
  {
   "cell_type": "code",
   "execution_count": 8,
   "metadata": {
    "collapsed": false
   },
   "outputs": [],
   "source": [
    "# Initial Condition Function\n",
    "_A0 = 6; _sigma_sqr = 5.77\n",
    "def gaussSpot(point): \n",
    "    x,y = point\n",
    "    return _A0*np.exp( -(x**2 + y**2)/_sigma_sqr )"
   ]
  },
  {
   "cell_type": "code",
   "execution_count": 9,
   "metadata": {
    "collapsed": false
   },
   "outputs": [],
   "source": [
    "# Evaluate the Initial Condition at each point inside the grid.\n",
    "u0 = [] # Synaptic Potential\n",
    "a0 = [] # Adaptation\n",
    "for x in grid:\n",
    "    init_cond = gaussSpot(x)\n",
    "    u0.append(init_cond)\n",
    "    a0.append(init_cond)\n",
    "v0 = np.array(u0 + a0)"
   ]
  },
  {
   "cell_type": "code",
   "execution_count": 10,
   "metadata": {
    "collapsed": false
   },
   "outputs": [],
   "source": [
    "method = ode(neural_field).set_integrator(\"dopri5\")\n",
    "method.set_initial_value(v0)\n",
    "final_t = 15\n",
    "dt = 0.1\n",
    "vs = []\n",
    "time_points = []\n",
    "while method.t < final_t:\n",
    "    next_t = method.t+dt\n",
    "    time_points.append(next_t)\n",
    "    next_v = method.integrate(next_t)\n",
    "    vs.append(next_v)"
   ]
  },
  {
   "cell_type": "markdown",
   "metadata": {},
   "source": [
    "### Plot Solutions"
   ]
  },
  {
   "cell_type": "code",
   "execution_count": 11,
   "metadata": {
    "collapsed": false
   },
   "outputs": [],
   "source": [
    "xs = grid[0::N+1,0];\n",
    "ys = grid[0:N,1];\n",
    "xx,yy = np.meshgrid(xs, ys)"
   ]
  },
  {
   "cell_type": "code",
   "execution_count": 12,
   "metadata": {
    "collapsed": false
   },
   "outputs": [
    {
     "data": {
      "image/png": "[encoded data removed]",
      "text/plain": [
       "<matplotlib.figure.Figure at 0x109fe98d0>"
      ]
     },
     "metadata": {},
     "output_type": "display_data"
    },
    {
     "data": {
      "image/png": "[encoded data removed]",
      "text/plain": [
       "<matplotlib.figure.Figure at 0x127d8f588>"
      ]
     },
     "metadata": {},
     "output_type": "display_data"
    }
   ],
   "source": [
    "N = (Nx-1)*Ng\n",
    "fig1 = plt.figure(figsize=(10,4))\n",
    "\n",
    "# Plot initial time of Synaptic Activity\n",
    "ax1 = fig1.add_subplot(121)\n",
    "uu0 = v0[:N**2]\n",
    "uu0 = uu0.reshape((N,N)).T\n",
    "cont1 = ax1.contourf(xx, yy, uu0, 20, cmap=plt.get_cmap('viridis'))\n",
    "ax1.set_title(\"Synaptic Activity at t = 0\")\n",
    "plt.colorbar(cont1)\n",
    "\n",
    "# Plot initial time of Adaptation\n",
    "ax2 = fig1.add_subplot(122)\n",
    "aa0 = v0[N**2:]\n",
    "aa0 = aa0.reshape( (N,N) ).T\n",
    "cont2 = ax2.contourf(xx, yy, aa0, 20, cmap=plt.get_cmap('viridis'))\n",
    "ax2.set_title(\"Adaptation at at t = 0\")\n",
    "plt.colorbar(cont2)\n",
    "\n",
    "fig2 = plt.figure(figsize=(10,4))\n",
    "# Plot final time of Synaptic Activity\n",
    "ax3 = fig2.add_subplot(121)\n",
    "uun = vs[-1][:N**2]\n",
    "uun = uun.reshape((N,N)).T\n",
    "cont3 = ax3.contourf(xx, yy, uun, 20, cmap=plt.get_cmap('viridis'))\n",
    "ax3.set_title(\"Synaptic Activity at t = \"+str(final_t))\n",
    "plt.colorbar(cont3)\n",
    "\n",
    "# Plot final time of Adaptation\n",
    "ax4 = fig2.add_subplot(122)\n",
    "aan = vs[-1][N**2:]\n",
    "aan = aan.reshape((N,N)).T\n",
    "cont4 = ax4.contourf(xx, yy, aan, 20, cmap=plt.get_cmap('viridis'))\n",
    "ax4.set_title(\"Adaptation at t = \"+str(final_t))\n",
    "plt.colorbar(cont4)\n",
    "\n",
    "plt.savefig(\"GaussSpot_\"+str(N**2)+\"points_(\"+str(p_h)+\")h.png\")"
   ]
  },
  {
   "cell_type": "code",
   "execution_count": 13,
   "metadata": {
    "collapsed": true
   },
   "outputs": [],
   "source": [
    "import numpy as np"
   ]
  },
  {
   "cell_type": "code",
   "execution_count": 14,
   "metadata": {
    "collapsed": false
   },
   "outputs": [
    {
     "data": {
      "text/plain": [
       "array([4, 5, 6])"
      ]
     },
     "execution_count": 14,
     "metadata": {},
     "output_type": "execute_result"
    }
   ],
   "source": [
    "v = np.array([1,2,3,4,5,6])\n",
    "v[3:]"
   ]
  },
  {
   "cell_type": "code",
   "execution_count": null,
   "metadata": {
    "collapsed": true
   },
   "outputs": [],
   "source": []
  }
 ],
 "metadata": {
  "kernelspec": {
   "display_name": "Python 3",
   "language": "python",
   "name": "python3"
  },
  "language_info": {
   "codemirror_mode": {
    "name": "ipython",
    "version": 3
   },
   "file_extension": ".py",
   "mimetype": "text/x-python",
   "name": "python",
   "nbconvert_exporter": "python",
   "pygments_lexer": "ipython3",
   "version": "3.5.3"
  }
 },
 "nbformat": 4,
 "nbformat_minor": 1
}
